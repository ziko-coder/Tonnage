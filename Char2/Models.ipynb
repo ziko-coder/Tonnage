{
 "cells": [
  {
   "cell_type": "code",
   "execution_count": 47,
   "id": "7952decd",
   "metadata": {},
   "outputs": [],
   "source": [
    "import pandas as pd\n",
    "import pickle\n",
    "import matplotlib.pyplot as plt\n",
    "from sklearn.preprocessing import MinMaxScaler\n",
    "import pandas as pd\n",
    "from sklearn.impute import KNNImputer\n",
    "import numpy as np"
   ]
  },
  {
   "cell_type": "code",
   "execution_count": 48,
   "id": "fbf49fda",
   "metadata": {},
   "outputs": [],
   "source": [
    "with open('../scaler.pkl', 'rb') as file:\n",
    "    scaler = pickle.load(file)\n",
    "\n",
    "with open('../imputer.pkl', 'rb') as file:\n",
    "    imputer = pickle.load(file)"
   ]
  },
  {
   "cell_type": "code",
   "execution_count": null,
   "id": "6fa31d00",
   "metadata": {},
   "outputs": [],
   "source": []
  },
  {
   "cell_type": "code",
   "execution_count": 49,
   "id": "812dc957",
   "metadata": {},
   "outputs": [],
   "source": [
    "sheet_name='../../data/precoce_2_Char_mean.csv'\n",
    "df = pd.read_csv(sheet_name)"
   ]
  },
  {
   "cell_type": "code",
   "execution_count": 50,
   "id": "83dead5a",
   "metadata": {},
   "outputs": [],
   "source": [
    "df.drop(['Unnamed: 0'], axis=1, inplace=True)"
   ]
  },
  {
   "cell_type": "code",
   "execution_count": 51,
   "id": "43de0f29",
   "metadata": {},
   "outputs": [],
   "source": [
    "df_test = pd.read_csv('../../data/test_set.csv')"
   ]
  },
  {
   "cell_type": "code",
   "execution_count": 52,
   "id": "7f989077",
   "metadata": {},
   "outputs": [
    {
     "data": {
      "text/plain": [
       "Index(['Unnamed: 0.3', 'Unnamed: 0.2', 'Unnamed: 0.1', 'Unnamed: 0', 'DTronc',\n",
       "       'LTronc', 'DChar', 'LChar', 'DChar1', 'LChar1', 'DChar2', 'LChar2',\n",
       "       'DChar3', 'LChar3', 'DChar4', 'LChar4', 'PFr1', 'PFr2', 'PFr3', 'PFr4',\n",
       "       'PFr6', 'DChar5', 'LChar5', 'PFr5', 'Sum'],\n",
       "      dtype='object')"
      ]
     },
     "execution_count": 52,
     "metadata": {},
     "output_type": "execute_result"
    }
   ],
   "source": [
    "df_test.columns"
   ]
  },
  {
   "cell_type": "code",
   "execution_count": 53,
   "id": "0e533a8a",
   "metadata": {},
   "outputs": [],
   "source": [
    "df_test.drop(['Unnamed: 0.1', 'Unnamed: 0'], axis=1, inplace=True)"
   ]
  },
  {
   "cell_type": "code",
   "execution_count": 54,
   "id": "159994bb",
   "metadata": {},
   "outputs": [
    {
     "data": {
      "text/plain": [
       "Index(['Unnamed: 0.3', 'Unnamed: 0.2', 'DTronc', 'LTronc', 'DChar', 'LChar',\n",
       "       'DChar1', 'LChar1', 'DChar2', 'LChar2', 'DChar3', 'LChar3', 'DChar4',\n",
       "       'LChar4', 'PFr1', 'PFr2', 'PFr3', 'PFr4', 'PFr6', 'DChar5', 'LChar5',\n",
       "       'PFr5', 'Sum'],\n",
       "      dtype='object')"
      ]
     },
     "execution_count": 54,
     "metadata": {},
     "output_type": "execute_result"
    }
   ],
   "source": [
    "df_test.columns"
   ]
  },
  {
   "cell_type": "code",
   "execution_count": 55,
   "id": "32775948",
   "metadata": {},
   "outputs": [
    {
     "data": {
      "text/plain": [
       "Index(['DTronc', 'LTronc', 'DChar', 'LChar', 'DChar1', 'LChar1', 'DChar2',\n",
       "       'LChar2', 'Sum'],\n",
       "      dtype='object')"
      ]
     },
     "execution_count": 55,
     "metadata": {},
     "output_type": "execute_result"
    }
   ],
   "source": [
    "df.columns"
   ]
  },
  {
   "cell_type": "code",
   "execution_count": 56,
   "id": "56d34bb9",
   "metadata": {},
   "outputs": [],
   "source": [
    "X = df.drop('Sum', axis=1)\n",
    "y = df['Sum']"
   ]
  },
  {
   "cell_type": "code",
   "execution_count": 57,
   "id": "8ddb4825",
   "metadata": {},
   "outputs": [
    {
     "name": "stdout",
     "output_type": "stream",
     "text": [
      "Index(['DTronc', 'LTronc', 'DChar', 'LChar', 'DChar1', 'LChar1', 'DChar2',\n",
      "       'LChar2'],\n",
      "      dtype='object')\n"
     ]
    },
    {
     "data": {
      "text/plain": [
       "Index(['DTronc', 'LTronc', 'DChar', 'LChar', 'DChar1', 'LChar1', 'DChar2',\n",
       "       'LChar2'],\n",
       "      dtype='object')"
      ]
     },
     "execution_count": 57,
     "metadata": {},
     "output_type": "execute_result"
    }
   ],
   "source": [
    "print(X.columns)\n",
    "X_test = df_test[['DTronc', 'LTronc', 'DChar', 'LChar', 'DChar1', 'LChar1', 'DChar2', 'LChar2']]\n",
    "X_test.columns"
   ]
  },
  {
   "cell_type": "markdown",
   "id": "2f5dbada",
   "metadata": {},
   "source": [
    "# Models"
   ]
  },
  {
   "cell_type": "code",
   "execution_count": 58,
   "id": "34df3ace",
   "metadata": {},
   "outputs": [
    {
     "name": "stdout",
     "output_type": "stream",
     "text": [
      "Best Model Hyperparameters: {'linearregression__fit_intercept': True}\n",
      "Model Weights: [-0.03788182  0.02813798 -0.06312482  0.06410262  0.0282069   0.02078356\n",
      " -0.00658246 -0.01608334]\n",
      "Model Intercept: 0.37049850902833437\n",
      "Best Model Mean Squared Error: 0.008298167146884349\n",
      "Best Model Hyperparameters: {'linearregression__fit_intercept': True}\n"
     ]
    }
   ],
   "source": [
    "from sklearn.linear_model import LinearRegression\n",
    "from sklearn.model_selection import GridSearchCV\n",
    "from sklearn.metrics import mean_squared_error\n",
    "from sklearn.pipeline import make_pipeline\n",
    "import pandas as pd\n",
    "\n",
    "X = df.drop('Sum', axis=1)\n",
    "y = df['Sum']\n",
    "\n",
    "X_test = df_test[['DTronc', 'LTronc', 'DChar', 'LChar', 'DChar1', 'LChar1', 'DChar2', 'LChar2']]  \n",
    "y_test = df_test['Sum']  \n",
    "\n",
    "\n",
    "model = make_pipeline(scaler, LinearRegression())\n",
    "\n",
    "param_grid = {\n",
    "    'linearregression__fit_intercept': [True, False]\n",
    "}\n",
    "\n",
    "grid_search = GridSearchCV(estimator=model, param_grid=param_grid, scoring='neg_mean_squared_error', cv=5)\n",
    "grid_search.fit(X, y)\n",
    "\n",
    "best_model = grid_search.best_estimator_\n",
    "best_params = grid_search.best_params_\n",
    "\n",
    "parameters = best_model.get_params()\n",
    "weights = best_model.named_steps['linearregression'].coef_\n",
    "intercept = best_model.named_steps['linearregression'].intercept_\n",
    "\n",
    "print('Best Model Hyperparameters:', best_params)\n",
    "print('Model Weights:', weights)\n",
    "print('Model Intercept:', intercept)\n",
    "\n",
    "\n",
    "y_pred = best_model.predict(X_test)\n",
    "\n",
    "mse = mean_squared_error(y_test, y_pred)\n",
    "print('Best Model Mean Squared Error:', mse)\n",
    "print('Best Model Hyperparameters:', best_params)\n",
    "\n",
    "# pickle the best model\n",
    "with open('LR_best_model_2.pkl', 'wb') as file:\n",
    "    pickle.dump(best_model, file)"
   ]
  },
  {
   "cell_type": "markdown",
   "id": "400c0c0d",
   "metadata": {},
   "source": [
    "## SVR"
   ]
  },
  {
   "cell_type": "code",
   "execution_count": 59,
   "id": "7f13998e",
   "metadata": {},
   "outputs": [
    {
     "name": "stdout",
     "output_type": "stream",
     "text": [
      "Best Model Hyperparameters: {'svr__C': 0.1, 'svr__degree': 2, 'svr__kernel': 'rbf'}\n",
      "Best Model Mean Squared Error: 0.007946028188002599\n",
      "Best Model Hyperparameters: {'svr__C': 0.1, 'svr__degree': 2, 'svr__kernel': 'rbf'}\n"
     ]
    }
   ],
   "source": [
    "from sklearn.svm import SVR\n",
    "from sklearn.model_selection import GridSearchCV\n",
    "from sklearn.metrics import mean_squared_error\n",
    "from sklearn.pipeline import make_pipeline\n",
    "import pandas as pd\n",
    "\n",
    "X = df.drop('Sum', axis=1)\n",
    "y = df['Sum']\n",
    "\n",
    "X_test = df_test[['DTronc', 'LTronc', 'DChar', 'LChar', 'DChar1', 'LChar1', 'DChar2', 'LChar2']]  # Replace with appropriate testing features\n",
    "y_test = df_test['Sum']  # Replace with appropriate testing target\n",
    "\n",
    "model = make_pipeline(scaler, SVR())\n",
    "\n",
    "param_grid = {\n",
    "    'svr__C': [0.1, 1, 10],\n",
    "    'svr__kernel': ['linear', 'rbf', 'poly'],\n",
    "    'svr__degree': [2, 3, 4]\n",
    "}\n",
    "\n",
    "grid_search = GridSearchCV(estimator=model, param_grid=param_grid, scoring='neg_mean_squared_error', cv=5)\n",
    "grid_search.fit(X, y)\n",
    "\n",
    "best_model = grid_search.best_estimator_\n",
    "best_params = grid_search.best_params_\n",
    "\n",
    "print('Best Model Hyperparameters:', best_params)\n",
    "\n",
    "\n",
    "y_pred = best_model.predict(X_test)\n",
    "\n",
    "mse = mean_squared_error(y_test, y_pred)\n",
    "print('Best Model Mean Squared Error:', mse)\n",
    "print('Best Model Hyperparameters:', best_params)\n",
    "\n",
    "# pickle the best model\n",
    "with open('SVR_best_model_2.pkl', 'wb') as file:\n",
    "    pickle.dump(best_model, file) "
   ]
  },
  {
   "cell_type": "code",
   "execution_count": null,
   "id": "ca4c0420",
   "metadata": {},
   "outputs": [],
   "source": []
  },
  {
   "cell_type": "code",
   "execution_count": 60,
   "id": "978886a7",
   "metadata": {},
   "outputs": [
    {
     "name": "stdout",
     "output_type": "stream",
     "text": [
      "Best Model Mean Squared Error: 0.007346056347757546\n",
      "Best Model Hyperparameters: {'colsample_bytree': 0.8, 'learning_rate': 0.1, 'max_depth': 3, 'n_estimators': 100, 'subsample': 1.0}\n"
     ]
    }
   ],
   "source": [
    "import xgboost as xgb\n",
    "from sklearn.model_selection import GridSearchCV\n",
    "from sklearn.metrics import mean_squared_error\n",
    "import pandas as pd\n",
    "\n",
    "X = df.drop('Sum', axis=1)\n",
    "y = df['Sum']\n",
    "\n",
    "X_test = df_test[['DTronc', 'LTronc', 'DChar', 'LChar', 'DChar1', 'LChar1', 'DChar2', 'LChar2']]  # Replace with appropriate testing features\n",
    "y_test = df_test['Sum']  # Replace with appropriate testing target\n",
    "\n",
    "# Define the XGBoost regressor\n",
    "model = xgb.XGBRegressor()\n",
    "\n",
    "# Define the parameter grid for grid search\n",
    "param_grid = {\n",
    "    'n_estimators': [100, 200, 300],  # Number of trees\n",
    "    'learning_rate': [0.1, 0.01, 0.001],  # Learning rate\n",
    "    'max_depth': [3, 4, 5],  # Maximum depth of a tree\n",
    "    'subsample': [0.8, 0.9, 1.0],  # Subsample ratio of the training instances\n",
    "    'colsample_bytree': [0.8, 0.9, 1.0],  # Subsample ratio of columns when constructing each tree\n",
    "}\n",
    "\n",
    "# Perform grid search\n",
    "grid_search = GridSearchCV(estimator=model, param_grid=param_grid, scoring='neg_mean_squared_error', cv=5)\n",
    "grid_search.fit(X, y)\n",
    "\n",
    "best_model = grid_search.best_estimator_\n",
    "best_params = grid_search.best_params_\n",
    "\n",
    "\n",
    "\n",
    "y_pred = best_model.predict(X_test)\n",
    "\n",
    "mse = mean_squared_error(y_test, y_pred)\n",
    "print('Best Model Mean Squared Error:', mse)\n",
    "print('Best Model Hyperparameters:', best_params)\n",
    "\n",
    "# pickle the best model\n",
    "with open('XGBoost_best_model_2.pkl', 'wb') as file:\n",
    "    pickle.dump(best_model, file)"
   ]
  },
  {
   "cell_type": "code",
   "execution_count": null,
   "id": "193a9d4e",
   "metadata": {},
   "outputs": [],
   "source": []
  },
  {
   "cell_type": "code",
   "execution_count": null,
   "id": "a346e912",
   "metadata": {},
   "outputs": [],
   "source": []
  },
  {
   "cell_type": "code",
   "execution_count": null,
   "id": "975aef83",
   "metadata": {},
   "outputs": [],
   "source": []
  },
  {
   "cell_type": "code",
   "execution_count": null,
   "id": "6de3b20e",
   "metadata": {},
   "outputs": [],
   "source": []
  },
  {
   "cell_type": "code",
   "execution_count": null,
   "id": "e9e4432e",
   "metadata": {},
   "outputs": [],
   "source": []
  },
  {
   "cell_type": "code",
   "execution_count": null,
   "id": "53cfad11",
   "metadata": {},
   "outputs": [],
   "source": []
  },
  {
   "cell_type": "code",
   "execution_count": null,
   "id": "de48f10b",
   "metadata": {},
   "outputs": [],
   "source": []
  },
  {
   "cell_type": "code",
   "execution_count": null,
   "id": "c426f67c",
   "metadata": {},
   "outputs": [],
   "source": []
  },
  {
   "cell_type": "code",
   "execution_count": null,
   "id": "dccbaddb",
   "metadata": {},
   "outputs": [],
   "source": []
  },
  {
   "cell_type": "code",
   "execution_count": null,
   "id": "cc117702",
   "metadata": {},
   "outputs": [],
   "source": []
  },
  {
   "cell_type": "code",
   "execution_count": null,
   "id": "70e2db6a",
   "metadata": {},
   "outputs": [],
   "source": []
  },
  {
   "cell_type": "code",
   "execution_count": null,
   "id": "50a6f7f5",
   "metadata": {},
   "outputs": [],
   "source": []
  },
  {
   "cell_type": "code",
   "execution_count": null,
   "id": "a1ce16c4",
   "metadata": {},
   "outputs": [],
   "source": []
  },
  {
   "cell_type": "code",
   "execution_count": null,
   "id": "40f7653a",
   "metadata": {},
   "outputs": [],
   "source": []
  },
  {
   "cell_type": "code",
   "execution_count": null,
   "id": "92f9281f",
   "metadata": {},
   "outputs": [],
   "source": []
  },
  {
   "cell_type": "code",
   "execution_count": null,
   "id": "7bd11218",
   "metadata": {},
   "outputs": [],
   "source": []
  }
 ],
 "metadata": {
  "kernelspec": {
   "display_name": "Python 3 (ipykernel)",
   "language": "python",
   "name": "python3"
  },
  "language_info": {
   "codemirror_mode": {
    "name": "ipython",
    "version": 3
   },
   "file_extension": ".py",
   "mimetype": "text/x-python",
   "name": "python",
   "nbconvert_exporter": "python",
   "pygments_lexer": "ipython3",
   "version": "3.9.13"
  }
 },
 "nbformat": 4,
 "nbformat_minor": 5
}
