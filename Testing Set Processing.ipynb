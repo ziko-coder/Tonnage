{
 "cells": [
  {
   "cell_type": "code",
   "execution_count": 1,
   "id": "883505da",
   "metadata": {},
   "outputs": [],
   "source": [
    "import pandas as pd\n",
    "import numpy as np\n",
    "import pickle\n",
    "from sklearn.impute import SimpleImputer\n",
    "from sklearn.preprocessing import MinMaxScaler\n",
    "from sklearn.impute import SimpleImputer\n",
    "from sklearn.impute import MissingIndicator"
   ]
  },
  {
   "cell_type": "code",
   "execution_count": 2,
   "id": "bae21730",
   "metadata": {},
   "outputs": [],
   "source": [
    "with open('scaler.pkl', 'rb') as file:\n",
    "    scaler = pickle.load(file)\n",
    "\n",
    "with open('imputer.pkl', 'rb') as file:\n",
    "    imputer = pickle.load(file)"
   ]
  },
  {
   "cell_type": "code",
   "execution_count": 3,
   "id": "b5de92ce",
   "metadata": {},
   "outputs": [],
   "source": [
    "df = pd.read_csv('../data/test_set.csv')"
   ]
  },
  {
   "cell_type": "code",
   "execution_count": 4,
   "id": "2c6b563d",
   "metadata": {},
   "outputs": [],
   "source": [
    "def convert_to_nan(x):\n",
    "    try:\n",
    "        return pd.to_numeric(x)\n",
    "    except:\n",
    "        return np.nan\n",
    "    \n",
    "def process_column(df, column_name, strategy):\n",
    "    # Convert column values to NaN\n",
    "    df[column_name] = df[column_name].apply(convert_to_nan)\n",
    "    \n",
    "    # Impute missing values using SimpleImputer\n",
    "    df[column_name] = imputer.fit_transform(df[column_name].values.reshape(-1, 1))\n",
    "    \n",
    "    # Scale the resulting column using MinMaxScaler  \n",
    "    df[column_name] = scaler.fit_transform(df[column_name].values.reshape(-1, 1))"
   ]
  },
  {
   "cell_type": "code",
   "execution_count": 5,
   "id": "91c1c68e",
   "metadata": {},
   "outputs": [],
   "source": [
    "cols = ['PFr1', 'PFr2','PFr3', 'PFr4', 'PFr5', 'PFr6']\n",
    "\n",
    "for i in cols:\n",
    "    process_column(df, i, 'mean')\n",
    "    \n",
    "    \n",
    "\n",
    "def fill_missing_with_zero(df, column_name):\n",
    "    df.loc[:, column_name].fillna(0, inplace=True)\n",
    "\n",
    "def convert_column_to_float32(df, column_name):\n",
    "    df[column_name] = df[column_name].replace([np.inf, -np.inf], np.nan)\n",
    "    df[column_name].fillna(0, inplace=True)\n",
    "    df[column_name] = df[column_name].astype('float32')\n",
    "    \n",
    "cols = ['DTronc', 'LTronc', 'DChar', 'LChar', 'DChar1', 'LChar1', 'DChar2', 'LChar2', 'DChar3', 'LChar3', 'DChar4', 'LChar4']\n",
    "\n",
    "for col in cols:\n",
    "    df[col] = df[col].apply(convert_to_nan)\n",
    "    \n",
    "\n",
    "for c in cols:\n",
    "    convert_column_to_float32(df, c)\n",
    "    \n",
    "for c in cols:\n",
    "    df[c] = scaler.fit_transform(df[c].values.reshape(-1, 1))"
   ]
  },
  {
   "cell_type": "code",
   "execution_count": 6,
   "id": "347d47e1",
   "metadata": {},
   "outputs": [],
   "source": [
    "df['Sum'] = df[['PFr1', 'PFr2', 'PFr3', 'PFr4', 'PFr5', 'PFr6']].sum(axis=1)\n",
    "df['Sum']\n",
    "df['Sum'] = scaler.fit_transform(df['Sum'].values.reshape(-1, 1))"
   ]
  },
  {
   "cell_type": "code",
   "execution_count": 7,
   "id": "c377cc8f",
   "metadata": {},
   "outputs": [],
   "source": [
    "df.to_csv('../data/test_set.csv')"
   ]
  }
 ],
 "metadata": {
  "kernelspec": {
   "display_name": "Python 3 (ipykernel)",
   "language": "python",
   "name": "python3"
  },
  "language_info": {
   "codemirror_mode": {
    "name": "ipython",
    "version": 3
   },
   "file_extension": ".py",
   "mimetype": "text/x-python",
   "name": "python",
   "nbconvert_exporter": "python",
   "pygments_lexer": "ipython3",
   "version": "3.9.13"
  }
 },
 "nbformat": 4,
 "nbformat_minor": 5
}
