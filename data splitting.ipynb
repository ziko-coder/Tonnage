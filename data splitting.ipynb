{
 "cells": [
  {
   "cell_type": "code",
   "execution_count": 2,
   "id": "269a0b57",
   "metadata": {},
   "outputs": [],
   "source": [
    "import pandas as pd"
   ]
  },
  {
   "cell_type": "code",
   "execution_count": 3,
   "id": "3045fec1",
   "metadata": {},
   "outputs": [],
   "source": [
    "df = pd.read_csv('../data/precoce_all.csv')"
   ]
  },
  {
   "cell_type": "code",
   "execution_count": null,
   "id": "c1d9eb60",
   "metadata": {},
   "outputs": [],
   "source": []
  },
  {
   "cell_type": "code",
   "execution_count": 4,
   "id": "09db8e14",
   "metadata": {},
   "outputs": [],
   "source": [
    "df.drop(['DFr1', 'DFr2', 'DFr3', 'DFr4','DFr6','DFr5', 'NumRam', 'DRam','LRam'], axis=1, inplace=True)\n",
    "# Randomly sample 70% of the DataFrame for training\n",
    "train_set = df.sample(frac=0.7, random_state=42)\n",
    "\n",
    "# Use the remaining 30% as the testing set\n",
    "test_set = df.drop(train_set.index)"
   ]
  },
  {
   "cell_type": "code",
   "execution_count": 5,
   "id": "a7f5ab10",
   "metadata": {},
   "outputs": [],
   "source": [
    "train_set.to_csv('../../data/train_set.csv')\n",
    "test_set.to_csv('../../data/test_set.csv')"
   ]
  }
 ],
 "metadata": {
  "kernelspec": {
   "display_name": "Python 3 (ipykernel)",
   "language": "python",
   "name": "python3"
  },
  "language_info": {
   "codemirror_mode": {
    "name": "ipython",
    "version": 3
   },
   "file_extension": ".py",
   "mimetype": "text/x-python",
   "name": "python",
   "nbconvert_exporter": "python",
   "pygments_lexer": "ipython3",
   "version": "3.9.13"
  }
 },
 "nbformat": 4,
 "nbformat_minor": 5
}
